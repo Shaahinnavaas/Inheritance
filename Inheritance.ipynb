{
  "nbformat": 4,
  "nbformat_minor": 0,
  "metadata": {
    "colab": {
      "provenance": [],
      "authorship_tag": "ABX9TyPtNpv3n68XAdgAJ0F8BypL",
      "include_colab_link": true
    },
    "kernelspec": {
      "name": "python3",
      "display_name": "Python 3"
    },
    "language_info": {
      "name": "python"
    }
  },
  "cells": [
    {
      "cell_type": "markdown",
      "metadata": {
        "id": "view-in-github",
        "colab_type": "text"
      },
      "source": [
        "<a href=\"https://colab.research.google.com/github/Shaahinnavaas/Inheritance/blob/main/Inheritance.ipynb\" target=\"_parent\"><img src=\"https://colab.research.google.com/assets/colab-badge.svg\" alt=\"Open In Colab\"/></a>"
      ]
    },
    {
      "cell_type": "markdown",
      "source": [
        "# **Inheritance:**\n",
        "Inheritance allows us to define a class that inherits all the methods and properties from another class.\n",
        "\n",
        "Uses of Inheritance:\n",
        "1. It provides the reusability of a code.\n",
        "2. It is transitive in nature, which means that if class B inherits from another class A, then all the subclasses of B would automatically inherit from class A.\n",
        "\n",
        "Types of Inheritance:\n",
        "*   Single\n",
        "*   Multi level\n",
        "*   Multiple\n",
        "*   Hierarchial\n",
        "*   Hybrid\n",
        "\n",
        "\n"
      ],
      "metadata": {
        "id": "PzLmdAR5SuUR"
      }
    },
    {
      "cell_type": "markdown",
      "source": [
        "## **Single inheritance:**\n",
        "\n",
        "  If a child class is derived from the single base class, then it is known as single inheritance.\n",
        "\n",
        "  a-->b"
      ],
      "metadata": {
        "id": "VLPilnNeTwog"
      }
    },
    {
      "cell_type": "code",
      "execution_count": 12,
      "metadata": {
        "id": "HtfnKgxn7w8h"
      },
      "outputs": [],
      "source": [
        "class classone():\n",
        "  def one(self):\n",
        "    print(\"I am a Classone Base Class\")\n",
        "class classtwo(classone):\n",
        "  def two(self):\n",
        "    print(\"I am Derived Class\")\n"
      ]
    },
    {
      "cell_type": "markdown",
      "source": [],
      "metadata": {
        "id": "XeFxCOzKTwWZ"
      }
    },
    {
      "cell_type": "code",
      "source": [
        "single_inherit=classtwo()\n",
        "single_inherit.one()\n",
        "single_inherit.two()"
      ],
      "metadata": {
        "colab": {
          "base_uri": "https://localhost:8080/"
        },
        "id": "eY1rxz8QPDIW",
        "outputId": "7bd75b10-fb50-4ac6-ef62-e53fd7f9f76d"
      },
      "execution_count": 14,
      "outputs": [
        {
          "output_type": "stream",
          "name": "stdout",
          "text": [
            "I am a Classone Base Class\n",
            "I am Derived Class\n"
          ]
        }
      ]
    },
    {
      "cell_type": "markdown",
      "source": [
        "## **Multi Level Inheritance:**\n",
        "\n",
        "If the child class is derived from the another child class of single parent class, then it is known as Multilevel Inheritance.\n",
        "\n",
        "a-->b-->c"
      ],
      "metadata": {
        "id": "E84MANL4V4ll"
      }
    },
    {
      "cell_type": "code",
      "source": [
        "class classthree(classtwo):\n",
        "  def three(self):\n",
        "    print(\"I am Multilevel Inheritance's Derived class\")"
      ],
      "metadata": {
        "id": "ptM_ZpUCU9vX"
      },
      "execution_count": 15,
      "outputs": []
    },
    {
      "cell_type": "code",
      "source": [
        "Multi_inherit=classthree()\n",
        "Multi_inherit.three()\n",
        "Multi_inherit.two()\n",
        "Multi_inherit.one()"
      ],
      "metadata": {
        "colab": {
          "base_uri": "https://localhost:8080/"
        },
        "id": "p7w5hW04VaDy",
        "outputId": "c351e704-9b23-4bf0-8cbc-2f99ae4f4e20"
      },
      "execution_count": 16,
      "outputs": [
        {
          "output_type": "stream",
          "name": "stdout",
          "text": [
            "I am Multilevel Inheritance's Derived class\n",
            "I am Derived Class\n",
            "I am a Classone Base Class\n"
          ]
        }
      ]
    },
    {
      "cell_type": "markdown",
      "source": [
        "## **Mutiple inheritance:**\n",
        "\n",
        "If the child class is derived from two parent class, then it is known as multiple inheritance.\n",
        "\n",
        "a,b-->c"
      ],
      "metadata": {
        "id": "LTT6KnGRXTm0"
      }
    },
    {
      "cell_type": "code",
      "source": [
        "class parentone():\n",
        "  def parent1(self):\n",
        "    print(\"I am first parent\")\n",
        "class parenttwo():\n",
        "  def parent2(self):\n",
        "    print(\"I am second parent\")\n",
        "class child(parentone,parenttwo):\n",
        "  def child(self):\n",
        "    print(\"I am Multiple Inheritance's Child class\")"
      ],
      "metadata": {
        "id": "fPaFXwCWXqJS"
      },
      "execution_count": 26,
      "outputs": []
    },
    {
      "cell_type": "code",
      "source": [
        "Multiple_inherit=child()\n",
        "Multiple_inherit.child()\n",
        "Multiple_inherit.parent2()\n",
        "Multiple_inherit.parent1()"
      ],
      "metadata": {
        "colab": {
          "base_uri": "https://localhost:8080/"
        },
        "id": "pgH-nPaoYkm5",
        "outputId": "e592dd7e-40d3-4f6d-cb9b-e5801d6f403f"
      },
      "execution_count": 27,
      "outputs": [
        {
          "output_type": "stream",
          "name": "stdout",
          "text": [
            "I am Multiple Inheritance's Child class\n",
            "I am second parent\n",
            "I am first parent\n"
          ]
        }
      ]
    },
    {
      "cell_type": "markdown",
      "source": [
        "## **Hybrid Inheritance:**\n",
        "\n",
        "The combination of two or more types of inheritance is known as hybrid inheritance.\n",
        "Eg:\n",
        "Multilevel:\n",
        "a-->b-->c\n",
        "\n",
        "Multiple:\n",
        "x,y-->z\n",
        "\n",
        "Hybrid:\n",
        "**c,z-->new**"
      ],
      "metadata": {
        "id": "TsxkTPkkdQFe"
      }
    },
    {
      "cell_type": "code",
      "source": [
        "class hybrid(child,classthree):\n",
        "  def hybridchild(self):\n",
        "    print(\"I am a hybrid child of multiple and multi level inheritance\")"
      ],
      "metadata": {
        "id": "1mUuYo2jdQhF"
      },
      "execution_count": 28,
      "outputs": []
    },
    {
      "cell_type": "code",
      "source": [
        "hyb=hybrid()\n",
        "hyb.hybridchild()\n",
        "hyb.child()\n",
        "hyb.three()"
      ],
      "metadata": {
        "colab": {
          "base_uri": "https://localhost:8080/"
        },
        "id": "8CPcq0iSeGGw",
        "outputId": "4826a034-5fe8-4ea1-a489-5c91f54307d7"
      },
      "execution_count": 29,
      "outputs": [
        {
          "output_type": "stream",
          "name": "stdout",
          "text": [
            "I am a hybrid child of multiple and multi level inheritance\n",
            "I am Multiple Inheritance's Child class\n",
            "I am Multilevel Inheritance's Derived class\n"
          ]
        }
      ]
    },
    {
      "cell_type": "markdown",
      "source": [
        "## **Hierarchial Inheritance:**\n",
        "\n",
        "If a parent class contains one or more child class, then it is known as Hierarchial Inheritance.\n",
        "\n",
        " In this type of inheritance, the sibling classes cannot use share the properties between them. But , they can inherit all the properties of their parent.\n",
        "\n",
        " a-->b\n",
        "\n",
        " a-->c"
      ],
      "metadata": {
        "id": "T_fniRIFZ9WQ"
      }
    },
    {
      "cell_type": "code",
      "source": [
        "class firstchild(parentone):\n",
        "  def sibling1(self):\n",
        "    print(\"I am First sibling\")\n",
        "class secondchild(parentone):\n",
        "  def sibling2(self):\n",
        "    print(\"I am Second sibling\")"
      ],
      "metadata": {
        "id": "-mRiVUTqaxg_"
      },
      "execution_count": 22,
      "outputs": []
    },
    {
      "cell_type": "code",
      "source": [
        "hier1=firstchild()\n",
        "hier1.sibling1()\n",
        "hier1.parent1()\n",
        "\n",
        "hier2=secondchild()\n",
        "hier2.sibling2()\n",
        "hier2.parent1()"
      ],
      "metadata": {
        "colab": {
          "base_uri": "https://localhost:8080/"
        },
        "id": "O2N3C3T6cU0y",
        "outputId": "165c7a24-46a6-4e09-b588-8998f7c10ea0"
      },
      "execution_count": 24,
      "outputs": [
        {
          "output_type": "stream",
          "name": "stdout",
          "text": [
            "I am First sibling\n",
            "I am first parent\n",
            "I am Second sibling\n",
            "I am first parent\n"
          ]
        }
      ]
    }
  ]
}